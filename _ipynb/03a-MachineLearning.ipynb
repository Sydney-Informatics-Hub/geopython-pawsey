{
 "cells": [
  {
   "cell_type": "markdown",
   "metadata": {},
   "source": [
    "# Machine Learning for Geoscience\n",
    "\n",
    "<div class=\"questions\">  \n",
    "### Questions\n",
    "\n",
    "- What data science tools and techniques can be used in Python?\n",
    "- How do I do it?\n",
    "</div>\n",
    "\n",
    "<div class=\"objectives\">  \n",
    "### Objectives\n",
    "\n",
    "- Learn fundamental Machine Learning packages.\n",
    "- Learn to further explore data.\n",
    "</div>"
   ]
  },
  {
   "cell_type": "markdown",
   "metadata": {},
   "source": [
    "Let's use some standard Machine Learning tools available in Python packages to analyse some data.\n",
    "\n",
    "We have a dataset (from Butterworth et al. 2016) with a collection of tectonomagmatic parameters associated with the time and location of porphyry copper deposits. We want to determine which of these (if any) parameters are geologically important (or at least statistically significant) in relation to the formation of porphyry coppers.\n",
    "\n",
    "Below is an animation of the tectonomagmatic evolution of the South American plate margin since 150Ma, representing many of the parameters in the data."
   ]
  },
  {
   "cell_type": "markdown",
   "metadata": {},
   "source": [
    "![SegmentLocal](./fig/MullerConvergenceSmall.gif \"segment\")\n",
    "\n",
    "## Import most of the modules we need\n",
    "By convention module loads go at the top of your workflows.\n"
   ]
  },
  {
   "cell_type": "code",
   "execution_count": 1,
   "metadata": {
    "lines_to_next_cell": 2
   },
   "outputs": [],
   "source": [
    "import pandas #For dealing with data structures\n",
    "import numpy as np #Data array manipulation\n",
    "import scipy #Scientific Python, has lots of useful tools\n",
    "import scipy.io #A specific sub-module for input/output of sci data\n",
    "\n",
    "#scikit-learn tools to perform machine learning classification\n",
    "#from sklearn import cross_validation\n",
    "from sklearn.model_selection import train_test_split\n",
    "from sklearn.model_selection import cross_val_score\n",
    "from sklearn.svm import SVC\n",
    "from sklearn.ensemble import RandomForestClassifier\n",
    "from sklearn import preprocessing\n",
    "\n",
    "#For making pretty figures\n",
    "import matplotlib.pyplot as plt \n",
    "from matplotlib import cm\n",
    "\n",
    "#For easy geographic projections on a map\n",
    "import cartopy.crs as ccrs\n",
    "\n",
    "#For dealing with shapefiles\n",
    "import shapefile\n"
   ]
  },
  {
   "cell_type": "markdown",
   "metadata": {},
   "source": [
    "## Load in the data"
   ]
  },
  {
   "cell_type": "code",
   "execution_count": 2,
   "metadata": {
    "lines_to_next_cell": 2
   },
   "outputs": [
    {
     "ename": "FileNotFoundError",
     "evalue": "[Errno 2] File ../data/ml_data_points.csv does not exist: '../data/ml_data_points.csv'",
     "output_type": "error",
     "traceback": [
      "\u001b[1;31m---------------------------------------------------------------------------\u001b[0m",
      "\u001b[1;31mFileNotFoundError\u001b[0m                         Traceback (most recent call last)",
      "\u001b[1;32m<ipython-input-2-654421b52a61>\u001b[0m in \u001b[0;36m<module>\u001b[1;34m\u001b[0m\n\u001b[0;32m      1\u001b[0m \u001b[1;31m#Use pandas to load in the machine learning dataset\u001b[0m\u001b[1;33m\u001b[0m\u001b[1;33m\u001b[0m\u001b[1;33m\u001b[0m\u001b[0m\n\u001b[1;32m----> 2\u001b[1;33m \u001b[0mml_data\u001b[0m\u001b[1;33m=\u001b[0m\u001b[0mpandas\u001b[0m\u001b[1;33m.\u001b[0m\u001b[0mread_csv\u001b[0m\u001b[1;33m(\u001b[0m\u001b[1;34m\"../data/ml_data_points.csv\"\u001b[0m\u001b[1;33m,\u001b[0m\u001b[0mindex_col\u001b[0m\u001b[1;33m=\u001b[0m\u001b[1;36m0\u001b[0m\u001b[1;33m)\u001b[0m\u001b[1;33m\u001b[0m\u001b[1;33m\u001b[0m\u001b[0m\n\u001b[0m",
      "\u001b[1;32mc:\\users\\nbutter\\miniconda3\\envs\\geopy\\lib\\site-packages\\pandas\\io\\parsers.py\u001b[0m in \u001b[0;36mparser_f\u001b[1;34m(filepath_or_buffer, sep, delimiter, header, names, index_col, usecols, squeeze, prefix, mangle_dupe_cols, dtype, engine, converters, true_values, false_values, skipinitialspace, skiprows, skipfooter, nrows, na_values, keep_default_na, na_filter, verbose, skip_blank_lines, parse_dates, infer_datetime_format, keep_date_col, date_parser, dayfirst, cache_dates, iterator, chunksize, compression, thousands, decimal, lineterminator, quotechar, quoting, doublequote, escapechar, comment, encoding, dialect, error_bad_lines, warn_bad_lines, delim_whitespace, low_memory, memory_map, float_precision)\u001b[0m\n\u001b[0;32m    674\u001b[0m         )\n\u001b[0;32m    675\u001b[0m \u001b[1;33m\u001b[0m\u001b[0m\n\u001b[1;32m--> 676\u001b[1;33m         \u001b[1;32mreturn\u001b[0m \u001b[0m_read\u001b[0m\u001b[1;33m(\u001b[0m\u001b[0mfilepath_or_buffer\u001b[0m\u001b[1;33m,\u001b[0m \u001b[0mkwds\u001b[0m\u001b[1;33m)\u001b[0m\u001b[1;33m\u001b[0m\u001b[1;33m\u001b[0m\u001b[0m\n\u001b[0m\u001b[0;32m    677\u001b[0m \u001b[1;33m\u001b[0m\u001b[0m\n\u001b[0;32m    678\u001b[0m     \u001b[0mparser_f\u001b[0m\u001b[1;33m.\u001b[0m\u001b[0m__name__\u001b[0m \u001b[1;33m=\u001b[0m \u001b[0mname\u001b[0m\u001b[1;33m\u001b[0m\u001b[1;33m\u001b[0m\u001b[0m\n",
      "\u001b[1;32mc:\\users\\nbutter\\miniconda3\\envs\\geopy\\lib\\site-packages\\pandas\\io\\parsers.py\u001b[0m in \u001b[0;36m_read\u001b[1;34m(filepath_or_buffer, kwds)\u001b[0m\n\u001b[0;32m    446\u001b[0m \u001b[1;33m\u001b[0m\u001b[0m\n\u001b[0;32m    447\u001b[0m     \u001b[1;31m# Create the parser.\u001b[0m\u001b[1;33m\u001b[0m\u001b[1;33m\u001b[0m\u001b[1;33m\u001b[0m\u001b[0m\n\u001b[1;32m--> 448\u001b[1;33m     \u001b[0mparser\u001b[0m \u001b[1;33m=\u001b[0m \u001b[0mTextFileReader\u001b[0m\u001b[1;33m(\u001b[0m\u001b[0mfp_or_buf\u001b[0m\u001b[1;33m,\u001b[0m \u001b[1;33m**\u001b[0m\u001b[0mkwds\u001b[0m\u001b[1;33m)\u001b[0m\u001b[1;33m\u001b[0m\u001b[1;33m\u001b[0m\u001b[0m\n\u001b[0m\u001b[0;32m    449\u001b[0m \u001b[1;33m\u001b[0m\u001b[0m\n\u001b[0;32m    450\u001b[0m     \u001b[1;32mif\u001b[0m \u001b[0mchunksize\u001b[0m \u001b[1;32mor\u001b[0m \u001b[0miterator\u001b[0m\u001b[1;33m:\u001b[0m\u001b[1;33m\u001b[0m\u001b[1;33m\u001b[0m\u001b[0m\n",
      "\u001b[1;32mc:\\users\\nbutter\\miniconda3\\envs\\geopy\\lib\\site-packages\\pandas\\io\\parsers.py\u001b[0m in \u001b[0;36m__init__\u001b[1;34m(self, f, engine, **kwds)\u001b[0m\n\u001b[0;32m    878\u001b[0m             \u001b[0mself\u001b[0m\u001b[1;33m.\u001b[0m\u001b[0moptions\u001b[0m\u001b[1;33m[\u001b[0m\u001b[1;34m\"has_index_names\"\u001b[0m\u001b[1;33m]\u001b[0m \u001b[1;33m=\u001b[0m \u001b[0mkwds\u001b[0m\u001b[1;33m[\u001b[0m\u001b[1;34m\"has_index_names\"\u001b[0m\u001b[1;33m]\u001b[0m\u001b[1;33m\u001b[0m\u001b[1;33m\u001b[0m\u001b[0m\n\u001b[0;32m    879\u001b[0m \u001b[1;33m\u001b[0m\u001b[0m\n\u001b[1;32m--> 880\u001b[1;33m         \u001b[0mself\u001b[0m\u001b[1;33m.\u001b[0m\u001b[0m_make_engine\u001b[0m\u001b[1;33m(\u001b[0m\u001b[0mself\u001b[0m\u001b[1;33m.\u001b[0m\u001b[0mengine\u001b[0m\u001b[1;33m)\u001b[0m\u001b[1;33m\u001b[0m\u001b[1;33m\u001b[0m\u001b[0m\n\u001b[0m\u001b[0;32m    881\u001b[0m \u001b[1;33m\u001b[0m\u001b[0m\n\u001b[0;32m    882\u001b[0m     \u001b[1;32mdef\u001b[0m \u001b[0mclose\u001b[0m\u001b[1;33m(\u001b[0m\u001b[0mself\u001b[0m\u001b[1;33m)\u001b[0m\u001b[1;33m:\u001b[0m\u001b[1;33m\u001b[0m\u001b[1;33m\u001b[0m\u001b[0m\n",
      "\u001b[1;32mc:\\users\\nbutter\\miniconda3\\envs\\geopy\\lib\\site-packages\\pandas\\io\\parsers.py\u001b[0m in \u001b[0;36m_make_engine\u001b[1;34m(self, engine)\u001b[0m\n\u001b[0;32m   1112\u001b[0m     \u001b[1;32mdef\u001b[0m \u001b[0m_make_engine\u001b[0m\u001b[1;33m(\u001b[0m\u001b[0mself\u001b[0m\u001b[1;33m,\u001b[0m \u001b[0mengine\u001b[0m\u001b[1;33m=\u001b[0m\u001b[1;34m\"c\"\u001b[0m\u001b[1;33m)\u001b[0m\u001b[1;33m:\u001b[0m\u001b[1;33m\u001b[0m\u001b[1;33m\u001b[0m\u001b[0m\n\u001b[0;32m   1113\u001b[0m         \u001b[1;32mif\u001b[0m \u001b[0mengine\u001b[0m \u001b[1;33m==\u001b[0m \u001b[1;34m\"c\"\u001b[0m\u001b[1;33m:\u001b[0m\u001b[1;33m\u001b[0m\u001b[1;33m\u001b[0m\u001b[0m\n\u001b[1;32m-> 1114\u001b[1;33m             \u001b[0mself\u001b[0m\u001b[1;33m.\u001b[0m\u001b[0m_engine\u001b[0m \u001b[1;33m=\u001b[0m \u001b[0mCParserWrapper\u001b[0m\u001b[1;33m(\u001b[0m\u001b[0mself\u001b[0m\u001b[1;33m.\u001b[0m\u001b[0mf\u001b[0m\u001b[1;33m,\u001b[0m \u001b[1;33m**\u001b[0m\u001b[0mself\u001b[0m\u001b[1;33m.\u001b[0m\u001b[0moptions\u001b[0m\u001b[1;33m)\u001b[0m\u001b[1;33m\u001b[0m\u001b[1;33m\u001b[0m\u001b[0m\n\u001b[0m\u001b[0;32m   1115\u001b[0m         \u001b[1;32melse\u001b[0m\u001b[1;33m:\u001b[0m\u001b[1;33m\u001b[0m\u001b[1;33m\u001b[0m\u001b[0m\n\u001b[0;32m   1116\u001b[0m             \u001b[1;32mif\u001b[0m \u001b[0mengine\u001b[0m \u001b[1;33m==\u001b[0m \u001b[1;34m\"python\"\u001b[0m\u001b[1;33m:\u001b[0m\u001b[1;33m\u001b[0m\u001b[1;33m\u001b[0m\u001b[0m\n",
      "\u001b[1;32mc:\\users\\nbutter\\miniconda3\\envs\\geopy\\lib\\site-packages\\pandas\\io\\parsers.py\u001b[0m in \u001b[0;36m__init__\u001b[1;34m(self, src, **kwds)\u001b[0m\n\u001b[0;32m   1889\u001b[0m         \u001b[0mkwds\u001b[0m\u001b[1;33m[\u001b[0m\u001b[1;34m\"usecols\"\u001b[0m\u001b[1;33m]\u001b[0m \u001b[1;33m=\u001b[0m \u001b[0mself\u001b[0m\u001b[1;33m.\u001b[0m\u001b[0musecols\u001b[0m\u001b[1;33m\u001b[0m\u001b[1;33m\u001b[0m\u001b[0m\n\u001b[0;32m   1890\u001b[0m \u001b[1;33m\u001b[0m\u001b[0m\n\u001b[1;32m-> 1891\u001b[1;33m         \u001b[0mself\u001b[0m\u001b[1;33m.\u001b[0m\u001b[0m_reader\u001b[0m \u001b[1;33m=\u001b[0m \u001b[0mparsers\u001b[0m\u001b[1;33m.\u001b[0m\u001b[0mTextReader\u001b[0m\u001b[1;33m(\u001b[0m\u001b[0msrc\u001b[0m\u001b[1;33m,\u001b[0m \u001b[1;33m**\u001b[0m\u001b[0mkwds\u001b[0m\u001b[1;33m)\u001b[0m\u001b[1;33m\u001b[0m\u001b[1;33m\u001b[0m\u001b[0m\n\u001b[0m\u001b[0;32m   1892\u001b[0m         \u001b[0mself\u001b[0m\u001b[1;33m.\u001b[0m\u001b[0munnamed_cols\u001b[0m \u001b[1;33m=\u001b[0m \u001b[0mself\u001b[0m\u001b[1;33m.\u001b[0m\u001b[0m_reader\u001b[0m\u001b[1;33m.\u001b[0m\u001b[0munnamed_cols\u001b[0m\u001b[1;33m\u001b[0m\u001b[1;33m\u001b[0m\u001b[0m\n\u001b[0;32m   1893\u001b[0m \u001b[1;33m\u001b[0m\u001b[0m\n",
      "\u001b[1;32mpandas\\_libs\\parsers.pyx\u001b[0m in \u001b[0;36mpandas._libs.parsers.TextReader.__cinit__\u001b[1;34m()\u001b[0m\n",
      "\u001b[1;32mpandas\\_libs\\parsers.pyx\u001b[0m in \u001b[0;36mpandas._libs.parsers.TextReader._setup_parser_source\u001b[1;34m()\u001b[0m\n",
      "\u001b[1;31mFileNotFoundError\u001b[0m: [Errno 2] File ../data/ml_data_points.csv does not exist: '../data/ml_data_points.csv'"
     ]
    }
   ],
   "source": [
    "#Use pandas to load in the machine learning dataset\n",
    "ml_data=pandas.read_csv(\"../data/ml_data_points.csv\",index_col=0)"
   ]
  },
  {
   "cell_type": "code",
   "execution_count": null,
   "metadata": {
    "lines_to_next_cell": 0
   },
   "outputs": [],
   "source": [
    "#Print out the dataset so we can see what it looks like\n",
    "ml_data"
   ]
  },
  {
   "cell_type": "markdown",
   "metadata": {},
   "source": [
    "There are 21 columns (python (usually) counts from 0) representing different parameters. Some of these parameters may be useful for us. Some are not. The final column contains a binary flag representing whether there is a known porphyry copper deposit at that location or not. The \"non-deposits\" are required to train our Machine Learning classifier what a porphyry deposit looks like, and also, what a porphyry deposit doesn't look like!"
   ]
  },
  {
   "cell_type": "markdown",
   "metadata": {},
   "source": [
    "## Perform Machine Learning binary classification."
   ]
  },
  {
   "cell_type": "code",
   "execution_count": null,
   "metadata": {},
   "outputs": [],
   "source": [
    "#Change data format to numpy array for easy manipulation\n",
    "ml_data_np=ml_data.values\n",
    "\n",
    "#Set the indices of the parameters (features) to include in the ML\n",
    "#params=[0,1,2,3,4,5,6,7,8,9,10,11,12,13,14,15,16,17,18,19]\n",
    "# Alternatively try include any set of features you'd like to include!\n",
    "#params=[6,9,14,17] \n",
    "params=[16,17,18,19] \n",
    "\n",
    "\n",
    "#Save the number of parameters we have chosen\n",
    "datalength=len(params)\n",
    "\n",
    "#Normalise the data for Machine Learning\n",
    "ml_data_norm=preprocessing.scale(ml_data_np[:,params])\n",
    "\n",
    "#Create a 'feature vector' and a 'target classification vector'\n",
    "features=ml_data_norm\n",
    "targets=ml_data_np[:,20]\n",
    "\n",
    "#Print out some info about our final dataset\n",
    "print(\"Shape of ML data array: \", ml_data_norm.shape)\n",
    "print(\"Positive (deposits) examples: \",np.shape(ml_data_np[ml_data_np[:,20]==1,:]))\n",
    "print(\"Negative (non-deposits) examples: \",np.shape(ml_data_np[ml_data_np[:,20]==0,:]))"
   ]
  },
  {
   "cell_type": "code",
   "execution_count": null,
   "metadata": {},
   "outputs": [],
   "source": [
    "print('Make the classifiers')\n",
    "\n",
    "print('Random Forest...')\n",
    "#create and train the random forest\n",
    "#multi-core CPUs can use: rf = RandomForestClassifier(n_estimators=100, n_jobs=2)\n",
    "#n_estimators use between 64-128 doi: 10.1007/978-3-642-31537-4_13\n",
    "rf = RandomForestClassifier(n_estimators=128, n_jobs=1,class_weight=None)\n",
    "rf.fit(features,targets)\n",
    "print(\"Done RF\")\n",
    "\n",
    "scores = cross_val_score(rf, features,targets, cv=10)\n",
    "print(\"RF Scores: \",scores)\n",
    "print(\"SCORE Mean: %.2f\" % np.mean(scores), \"STD: %.2f\" % np.std(scores), \"\\n\")\n",
    "\n",
    "print(\"Targets (expected result):\")\n",
    "print(targets)\n",
    "\n",
    "print(\"Prediction (actual result):\")\n",
    "print(rf.predict(features))"
   ]
  },
  {
   "cell_type": "code",
   "execution_count": null,
   "metadata": {},
   "outputs": [],
   "source": [
    "#Make a list of labels for our chosen features\n",
    "paramColumns=np.array(ml_data.columns)\n",
    "paramLabels=paramColumns[params].tolist()\n",
    "\n",
    "#Create a new figure\n",
    "fig, ax = plt.subplots()\n",
    "\n",
    "#Plot the bar graph\n",
    "rects=ax.barh(np.arange(0, datalength, step=1),rf.feature_importances_)\n",
    "\n",
    "#Label the axes\n",
    "ax.set_yticks(np.arange(0, datalength, step=1))\n",
    "ax.set_yticklabels(paramLabels)\n",
    "ax.set_xlabel('Feature Importance')\n",
    "\n",
    "#Print the feature importance to compare with plot\n",
    "np.set_printoptions(precision=3,suppress=True)\n",
    "print(\"Importance \\t Feature\")\n",
    "for i,label in enumerate(paramLabels):\n",
    "    print(\"%1.3f \\t\\t %s\" % (rf.feature_importances_[i],label))\n",
    "\n",
    "plt.show()\n"
   ]
  },
  {
   "cell_type": "markdown",
   "metadata": {},
   "source": [
    "Now if we can measure the tectonomagmatic properties at some point. Based on our trained classifier we can predict a probability that porphyry copper deposits have formed\n"
   ]
  },
  {
   "cell_type": "code",
   "execution_count": null,
   "metadata": {},
   "outputs": [],
   "source": [
    "#Apply the trained ML to our gridded data to determine the probabilities at each of the points\n",
    "print('RF...')\n",
    "pRF=np.array(rf.predict_proba(features))\n",
    "print(\"Done RF\")"
   ]
  },
  {
   "cell_type": "code",
   "execution_count": null,
   "metadata": {},
   "outputs": [],
   "source": [
    "#Now you have a working ML model. You can use NEW DATA (you go and collect in the field or whatever)\n",
    "#to make predictions\n",
    "newdata = np.array([[0.5, -0.6, -0.7,  0.2]])\n",
    "rf.predict_proba(newdata)"
   ]
  },
  {
   "cell_type": "markdown",
   "metadata": {},
   "source": [
    "## Mapping the ML result"
   ]
  },
  {
   "cell_type": "code",
   "execution_count": null,
   "metadata": {
    "lines_to_next_cell": 0
   },
   "outputs": [],
   "source": [
    "filename=\"../data/topodata.nc\"\n",
    "data = scipy.io.netcdf.netcdf_file(filename,'r')\n",
    "\n",
    "data.variables"
   ]
  },
  {
   "cell_type": "code",
   "execution_count": null,
   "metadata": {},
   "outputs": [],
   "source": [
    "topoX=data.variables['X'][:]\n",
    "topoY=data.variables['Y'][:]\n",
    "topoZ=np.array(data.variables['elev'][:])\n",
    "\n",
    "#Some file types and readers (like netcdf) can actually change the data directly on disk\n",
    "#Good practice, is to close the file when done (for safety and memory saving)\n",
    "data.close()"
   ]
  },
  {
   "cell_type": "code",
   "execution_count": null,
   "metadata": {
    "lines_to_next_cell": 2
   },
   "outputs": [],
   "source": [
    "#Make a figure object\n",
    "plt.figure()\n",
    "\n",
    "#Get the axes of the current figure, for manipulation\n",
    "ax = plt.gca()\n",
    "\n",
    "#Put down the main topography dataset\n",
    "im=ax.imshow(topoZ,vmin=-5000,vmax=1000,extent=[0,360,-90,90],origin='upper',aspect=1,cmap=cm.gist_earth)\n",
    "\n",
    "#Make a colorbar\n",
    "cbar=plt.colorbar(im,fraction=0.025,pad=0.05,ticks=[-5000,0, 1000],extend='both')\n",
    "cbar.set_label('Height \\n ASL \\n (m)', rotation=0)\n",
    "\n",
    "#Clean up the default axis ticks\n",
    "plt.yticks([-90,-45,0,45,90])\n",
    "plt.xticks([0,90,180,270,360])\n",
    "\n",
    "#Put labels on the figure\n",
    "ax.set_xlabel('Longitude')\n",
    "ax.set_ylabel('Latitude')\n",
    "\n",
    "#Put a title on it\n",
    "plt.title(\"Bathymetry and Topography of the World \\n (ETOPO5 2020)\")\n",
    "\n",
    "plt.show()"
   ]
  },
  {
   "cell_type": "markdown",
   "metadata": {},
   "source": [
    "## Plotting shapefiles with for loops"
   ]
  },
  {
   "cell_type": "code",
   "execution_count": null,
   "metadata": {},
   "outputs": [],
   "source": [
    "#Load in plate polygons for plotting\n",
    "topologyFile='../data/platepolygons/topology_platepolygons_0.00Ma.shp'\n",
    "\n",
    "#read in the file\n",
    "shapeRead = shapefile.Reader(topologyFile)\n",
    "\n",
    "#And save out some of the shape file attributes\n",
    "recs    = shapeRead.records()\n",
    "shapes  = shapeRead.shapes()\n",
    "fields  = shapeRead.fields\n",
    "Nshp    = len(shapes)\n",
    "\n",
    "for i, nshp in enumerate(range(Nshp)):\n",
    "    #if nshp!=35 and nshp!=36 and nshp!=23:\n",
    "    #These are the plates that cross the dateline and cause \n",
    "        #banding errors\n",
    "        polygonShape=shapes[nshp].points\n",
    "        poly=np.array(polygonShape)\n",
    "        plt.plot(poly[:,0], poly[:,1], c='k',zorder=1)\n",
    "        \n",
    "plt.show()"
   ]
  },
  {
   "cell_type": "markdown",
   "metadata": {},
   "source": [
    "## Cartopy for a prettier map\n"
   ]
  },
  {
   "cell_type": "code",
   "execution_count": null,
   "metadata": {
    "lines_to_next_cell": 0
   },
   "outputs": [],
   "source": [
    "###Set up the figure\n",
    "fig = plt.figure(figsize=(16,12),dpi=150)\n",
    "\n",
    "ax = plt.axes(projection=ccrs.PlateCarree())\n",
    "ax.set_extent([-85, -30, -55, 10])\n",
    "ax.coastlines('50m', linewidth=0.8)\n",
    "\n",
    "###Add the map grid lines and format them\n",
    "gl = ax.gridlines(crs=ccrs.PlateCarree(), draw_labels=True,\n",
    "                  linewidth=2, color='gray', alpha=0.5, linestyle='-')\n",
    "\n",
    "from cartopy.mpl.gridliner import LONGITUDE_FORMATTER, LATITUDE_FORMATTER\n",
    "import matplotlib.ticker as mticker\n",
    "from matplotlib import colorbar, colors\n",
    "\n",
    "gl.top_labels = False\n",
    "gl.left_labels = True\n",
    "gl.right_labels = False\n",
    "gl.xlines = False\n",
    "gl.ylines = False\n",
    "gl.xlocator = mticker.FixedLocator([-75,-60, -45,-30])\n",
    "gl.ylocator = mticker.FixedLocator([-60, -45, -30, -15, 0,15])\n",
    "gl.xformatter = LONGITUDE_FORMATTER\n",
    "gl.yformatter = LATITUDE_FORMATTER\n",
    "#gl.xlabel_style = {'size': 15, 'color': 'gray'}\n",
    "#gl.xlabel_style = {'color': 'black', 'weight': 'normal'}\n",
    "\n",
    "print(\"Made base map\")\n",
    "\n",
    "###Plot a topography underlay image\n",
    "#Make a lat lon grid to fit the topo grid\n",
    "lons, lats = np.meshgrid(topoX,topoY)\n",
    "im1=ax.pcolormesh(lons,lats,topoZ, shading=\"auto\",cmap=plt.cm.gist_earth,transform=ccrs.PlateCarree())              \n",
    "cbar=plt.colorbar(im1, ax=ax, orientation=\"horizontal\", pad=0.02, fraction=0.05, shrink=0.2,extend='both')\n",
    "cbar.set_label('Topography (m)')\n",
    "\n",
    "print(\"Added topo\")\n",
    "\n",
    "###Plot shapefile polygon outlines\n",
    "#Load in plate polygons for plotting\n",
    "topologyFile='../data/platepolygons/topology_platepolygons_0.00Ma.shp'\n",
    "\n",
    "#read in the file\n",
    "shapeRead = shapefile.Reader(topologyFile)\n",
    "\n",
    "#And save out some of the shape file attributes\n",
    "recs    = shapeRead.records()\n",
    "shapes  = shapeRead.shapes()\n",
    "fields  = shapeRead.fields\n",
    "Nshp    = len(shapes)\n",
    "\n",
    "for i, nshp in enumerate(range(Nshp)):\n",
    "    if nshp!=35 and nshp!=36 and nshp!=23:\n",
    "    #These are the plates that cross the dateline and cause \n",
    "        #banding errors\n",
    "        polygonShape=shapes[nshp].points\n",
    "        poly=np.array(polygonShape)\n",
    "        xh=poly[:,0]\n",
    "        yh=poly[:,1]\n",
    "        ax.plot(xh, yh, c='w',zorder=1)\n",
    "\n",
    "print(\"Added shapes\")\n",
    "        \n",
    "###Plot the ore deposit probability\n",
    "xh = ml_data_np[ml_data_np[:,-1]==1,0]\n",
    "yh= ml_data_np[ml_data_np[:,-1]==1,1]\n",
    "l2 = ax.scatter(xh, yh, 500, marker='.',c=pRF[:147,1],cmap=plt.cm.copper,zorder=3,transform=ccrs.PlateCarree(),vmin=0,vmax=1)\n",
    "#l2 = pmap.scatter(xh, yh, 20, marker='.',edgecolor='dimgrey',linewidth=0.5,c=pRF[:147,1],cmap=plt.cm.copper,zorder=3)\n",
    "cbar=fig.colorbar(l2, ax=ax, orientation=\"horizontal\", pad=0.05, fraction=0.05, shrink=0.2,ticks=[0,0.5,1.0])\n",
    "l2.set_clim(-0.1, 1.1)\n",
    "cbar.set_label('Prediction Probability (%)')\n",
    "\n",
    "###Plot the ore deposit Age\n",
    "xh=ml_data_np[ml_data_np[:,-1]==1,0]\n",
    "yh = ml_data_np[ml_data_np[:,-1]==1,1]\n",
    "l2 = ax.scatter(xh, yh, 50, marker='.',c=ml_data_np[ml_data_np[:,-1]==1,4],cmap=plt.cm.hsv,zorder=3)\n",
    "cbar=fig.colorbar(l2, ax=ax, orientation=\"horizontal\", pad=0.1, fraction=0.05, shrink=0.2,extend='max',ticks=[0,50,100,150])\n",
    "l2.set_clim(0, 170)\n",
    "cbar.set_label('Age of Deposit (Ma)')\n",
    "\n",
    "print(\"Added deposit probability\")\n",
    "\n",
    "plt.show()"
   ]
  },
  {
   "cell_type": "markdown",
   "metadata": {},
   "source": [
    "## Exercise\n",
    "Do the same analysis but using a different Machine Learning algorithm for your classification. You can use this as a guide for picking a good classification algorithm [https://scikit-learn.org/stable/tutorial/machine_learning_map/index.html](https://scikit-learn.org/stable/tutorial/machine_learning_map/index.html). \n",
    "Present your results on a map, and compare it with the Random Forest method. \n",
    "\n",
    "## Datasets\n",
    "\n",
    "#### Topography/Bathymetry\n",
    "WORLDBATH: ETOPO5 5x5 minute Navy bathymetry. http://iridl.ldeo.columbia.edu/SOURCES/.NOAA/.NGDC/.ETOPO5/\n",
    "    \n",
    "#### ML dataset\n",
    "Butterworth et al 2016 https://doi.org/10.1002/2016TC004289\n",
    "\n",
    "#### Shapefile plate polygons\n",
    "GPlates2.0. https://www.gplates.org/"
   ]
  },
  {
   "cell_type": "markdown",
   "metadata": {},
   "source": [
    "<div class=\"keypoints\">\n",
    "### Key points\n",
    "\n",
    "- Applying ML workflows\n",
    "- Wrangling data.\n",
    "</div>\n",
    "\n"
   ]
  },
  {
   "cell_type": "code",
   "execution_count": null,
   "metadata": {},
   "outputs": [],
   "source": []
  }
 ],
 "metadata": {
  "jupytext": {
   "cell_metadata_filter": "-all",
   "formats": "md,ipynb",
   "notebook_metadata_filter": "-all",
   "text_representation": {
    "extension": ".md",
    "format_name": "markdown"
   }
  },
  "kernelspec": {
   "display_name": "Python 3",
   "language": "python",
   "name": "python3"
  },
  "language_info": {
   "codemirror_mode": {
    "name": "ipython",
    "version": 3
   },
   "file_extension": ".py",
   "mimetype": "text/x-python",
   "name": "python",
   "nbconvert_exporter": "python",
   "pygments_lexer": "ipython3",
   "version": "3.7.10"
  }
 },
 "nbformat": 4,
 "nbformat_minor": 4
}
